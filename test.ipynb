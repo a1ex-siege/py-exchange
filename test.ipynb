{
 "cells": [
  {
   "cell_type": "code",
   "execution_count": 1,
   "metadata": {},
   "outputs": [
    {
     "name": "stdout",
     "output_type": "stream",
     "text": [
      "None\n"
     ]
    }
   ],
   "source": [
    "from concept import PriceNode, PriceTree\n",
    "\n",
    "tree = PriceTree()\n",
    "print(tree.root)"
   ]
  },
  {
   "cell_type": "code",
   "execution_count": 2,
   "metadata": {},
   "outputs": [
    {
     "data": {
      "text/plain": [
       "<concept.PriceNode at 0x118db4a40>"
      ]
     },
     "execution_count": 2,
     "metadata": {},
     "output_type": "execute_result"
    }
   ],
   "source": [
    "tree.addNode(PriceNode(40.0, 11))\n",
    "\n",
    "\n",
    "tree.root"
   ]
  },
  {
   "cell_type": "code",
   "execution_count": 14,
   "metadata": {},
   "outputs": [
    {
     "name": "stdout",
     "output_type": "stream",
     "text": [
      "Added Price:(35.0) Volume:(11) \n",
      " Left:(None) \n",
      " Right:(None) to Price:(34.0) Volume:(11) \n",
      " Left:(None) \n",
      " Right:(Price:(35.0) Volume:(11) \n",
      " Left:(None) \n",
      " Right:(None))\n"
     ]
    },
    {
     "data": {
      "text/plain": [
       "1"
      ]
     },
     "execution_count": 14,
     "metadata": {},
     "output_type": "execute_result"
    }
   ],
   "source": [
    "tree.addNode(PriceNode(35.0, 11))"
   ]
  },
  {
   "cell_type": "code",
   "execution_count": 15,
   "metadata": {},
   "outputs": [
    {
     "name": "stdout",
     "output_type": "stream",
     "text": [
      "Price:(40.0) Volume:(11) \n",
      " Left:(Price:(38.0) Volume:(11) \n",
      " Left:(Price:(36.0) Volume:(11) \n",
      " Left:(Price:(34.0) Volume:(11) \n",
      " Left:(None) \n",
      " Right:(Price:(35.0) Volume:(11) \n",
      " Left:(None) \n",
      " Right:(None))) \n",
      " Right:(None)) \n",
      " Right:(None)) \n",
      " Right:(Price:(41.0) Volume:(22) \n",
      " Left:(None) \n",
      " Right:(None))\n"
     ]
    }
   ],
   "source": [
    "print(tree.root)"
   ]
  },
  {
   "cell_type": "code",
   "execution_count": 1,
   "metadata": {},
   "outputs": [
    {
     "data": {
      "text/plain": [
       "1"
      ]
     },
     "execution_count": 1,
     "metadata": {},
     "output_type": "execute_result"
    }
   ],
   "source": [
    "from concept import OrderNode, OrderList\n",
    "\n",
    "olist = OrderList()\n",
    "olist.addOrder(OrderNode(10))"
   ]
  },
  {
   "cell_type": "code",
   "execution_count": 8,
   "metadata": {},
   "outputs": [],
   "source": [
    "olist.addOrder(OrderNode(30))"
   ]
  },
  {
   "cell_type": "code",
   "execution_count": 9,
   "metadata": {},
   "outputs": [
    {
     "name": "stdout",
     "output_type": "stream",
     "text": [
      "[10, 10, 10, 25, 30]\n"
     ]
    }
   ],
   "source": [
    "print(olist)"
   ]
  }
 ],
 "metadata": {
  "kernelspec": {
   "display_name": "PropensityModel",
   "language": "python",
   "name": "python3"
  },
  "language_info": {
   "codemirror_mode": {
    "name": "ipython",
    "version": 3
   },
   "file_extension": ".py",
   "mimetype": "text/x-python",
   "name": "python",
   "nbconvert_exporter": "python",
   "pygments_lexer": "ipython3",
   "version": "3.12.4"
  }
 },
 "nbformat": 4,
 "nbformat_minor": 2
}
